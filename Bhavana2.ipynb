{
 "cells": [
  {
   "cell_type": "code",
   "execution_count": 4,
   "id": "9a39a101-b6e6-4d29-a7e9-d75ba960c979",
   "metadata": {},
   "outputs": [
    {
     "name": "stdin",
     "output_type": "stream",
     "text": [
      "Enter the numbers 1 : 5\n",
      "Enter the numbers 2 : 2\n",
      "Enter the numbers 3 : 3\n",
      "Enter the numbers 4 : 6\n",
      "Enter the numbers 5 : 2\n"
     ]
    },
    {
     "name": "stdout",
     "output_type": "stream",
     "text": [
      "[5, 2, 3, 6, 2]\n"
     ]
    }
   ],
   "source": [
    "\"\"\"LIST COMPREHENSIONS........INPUT VERSION.....\"\"\"\n",
    "#Step by step input\n",
    "nums=[int(input(f\"Enter the numbers {i+1} :\")) for i in range(5)]\n",
    "print(nums)\n",
    "\n"
   ]
  },
  {
   "cell_type": "code",
   "execution_count": 7,
   "id": "4db3f462-aa1b-4069-a3de-3f5c77e559e8",
   "metadata": {},
   "outputs": [
    {
     "name": "stdin",
     "output_type": "stream",
     "text": [
      "Enter the 5 numbers with spaces: 1 2 3 4 5 6 7 8 9\n"
     ]
    },
    {
     "name": "stdout",
     "output_type": "stream",
     "text": [
      "[1, 2, 3, 4, 5]\n"
     ]
    }
   ],
   "source": [
    "n=[int(x) for x in input(\"Enter the 5 numbers with spaces:\").split()[:5]]\n",
    "print(n)"
   ]
  },
  {
   "cell_type": "code",
   "execution_count": 15,
   "id": "d97731d0-e59c-4f0a-a66f-8a7b0915dcb5",
   "metadata": {},
   "outputs": [
    {
     "name": "stdin",
     "output_type": "stream",
     "text": [
      "Enter the table size: 10\n"
     ]
    },
    {
     "name": "stdout",
     "output_type": "stream",
     "text": [
      "tables in math\n",
      "[1, 2, 3, 4, 5, 6, 7, 8, 9, 10]\n",
      "[2, 4, 6, 8, 10, 12, 14, 16, 18, 20]\n",
      "[3, 6, 9, 12, 15, 18, 21, 24, 27, 30]\n",
      "[4, 8, 12, 16, 20, 24, 28, 32, 36, 40]\n",
      "[5, 10, 15, 20, 25, 30, 35, 40, 45, 50]\n",
      "[6, 12, 18, 24, 30, 36, 42, 48, 54, 60]\n",
      "[7, 14, 21, 28, 35, 42, 49, 56, 63, 70]\n",
      "[8, 16, 24, 32, 40, 48, 56, 64, 72, 80]\n",
      "[9, 18, 27, 36, 45, 54, 63, 72, 81, 90]\n",
      "[10, 20, 30, 40, 50, 60, 70, 80, 90, 100]\n"
     ]
    }
   ],
   "source": [
    "#Nested LC .... loop within a loop in a single LC\n",
    "n=int(input(\"Enter the table size:\"))\n",
    "table=[[i*j for j in range(1,n+1)]for i in range(1,n+1)]\n",
    "print(\"tables in math\")\n",
    "for row in table:\n",
    "    print(row)"
   ]
  },
  {
   "cell_type": "code",
   "execution_count": 27,
   "id": "55adb6ec-3e72-4761-a605-19966e773e1a",
   "metadata": {},
   "outputs": [
    {
     "name": "stdin",
     "output_type": "stream",
     "text": [
      "Enter the size : 5\n",
      "Enter 25 numbers with spaces: 1 2 3 4 5 67 8 6 4 3 2 3 4  55  3 2 2 2 3 4 3 4 5 6 6 4 3 2\n"
     ]
    },
    {
     "name": "stdout",
     "output_type": "stream",
     "text": [
      "[1, 2, 3, 4, 5]\n",
      "[67, 8, 6, 4, 3]\n",
      "[2, 3, 4, 55, 3]\n",
      "[2, 2, 2, 3, 4]\n",
      "[3, 4, 5, 6, 6]\n"
     ]
    }
   ],
   "source": [
    "'''Create a nxn matrix with  manual input numbers by input separated spaces.print all the rows in LC only'''\n",
    "n=int(input(\"Enter the size :\"))\n",
    "num=[int(x)for x in input(f\"Enter {n*n} numbers with spaces:\").split()[:n*n]]\n",
    "matrix=[[num[i*n+j] for j in range(n)]for i in range(n)]\n",
    "for row in matrix:\n",
    "    print(row)\n",
    "\n"
   ]
  },
  {
   "cell_type": "code",
   "execution_count": 37,
   "id": "dde026dd-bfc6-4154-bc6e-59d3d7663cec",
   "metadata": {},
   "outputs": [
    {
     "name": "stdin",
     "output_type": "stream",
     "text": [
      "enter the size: 3\n",
      "Enter 9 numbers with spaces: 1 5 2 3 5 4 1 1 2\n"
     ]
    },
    {
     "name": "stdout",
     "output_type": "stream",
     "text": [
      "[1, 5, 2]\n",
      "[3, 5, 4]\n",
      "[1, 1, 2]\n"
     ]
    }
   ],
   "source": [
    "s=int(input(\"enter the size:\"))\n",
    "nums=input(f\"Enter {s*s} numbers with spaces:\").split()\n",
    "if len(nums)!=s**2:\n",
    "    print(f\"Enter {s**2} numbers....\")\n",
    "else:\n",
    "    numbers=[int(x) for x in nums]\n",
    "    matrix=matrix=[[numbers[i*s+j] for j in range(s)]for i in range(s)]\n",
    "for r in matrix:\n",
    "    print(r)"
   ]
  },
  {
   "cell_type": "code",
   "execution_count": 36,
   "id": "b69a1037-ef88-4776-a07e-a79f94baa976",
   "metadata": {},
   "outputs": [
    {
     "name": "stdin",
     "output_type": "stream",
     "text": [
      "enter 9 numbers with spaces: 1 5 2 3 5 4 1 1 2\n"
     ]
    },
    {
     "name": "stdout",
     "output_type": "stream",
     "text": [
      "Matrix\n",
      "[1, 5, 2]\n",
      "[3, 5, 4]\n",
      "[1, 1, 2]\n",
      "transpose\n",
      "[1, 3, 1]\n",
      "[5, 5, 1]\n",
      "[2, 4, 2]\n"
     ]
    }
   ],
   "source": [
    "#transpose Matrix\n",
    "nums=input(\"enter 9 numbers with spaces:\").split()\n",
    "if len(nums)!=9:\n",
    "    print(\"enter 9 numbers....\")\n",
    "else:\n",
    "    numbers=[int(x) for x in nums]\n",
    "    matrix=[[numbers[i*3+j] for j in range(3)]for i in range(3)]\n",
    "    transpose=[[matrix[i][j]for i in range(3)]for j in range(3)]\n",
    "print(\"Matrix\")\n",
    "for r in matrix:\n",
    "        print(r)\n",
    "print(\"transpose\")\n",
    "for t in transpose:\n",
    "    print(t)"
   ]
  },
  {
   "cell_type": "code",
   "execution_count": 42,
   "id": "f3195e96-b97f-4732-a2e2-0f748f6059c3",
   "metadata": {},
   "outputs": [
    {
     "name": "stdin",
     "output_type": "stream",
     "text": [
      "Enter the size : 3\n",
      "Enter 9 numbers with spaces: 1 5 2 3 5 4 1 1 2\n"
     ]
    },
    {
     "name": "stdout",
     "output_type": "stream",
     "text": [
      "Original matrix\n",
      "[1, 5, 2]\n",
      "[3, 5, 4]\n",
      "[1, 1, 2]\n",
      "flat Matrix:\n",
      "[1, 5, 2, 3, 5, 4, 1, 1, 2]\n"
     ]
    }
   ],
   "source": [
    "n=int(input(\"Enter the size :\"))\n",
    "num=[int(x)for x in input(f\"Enter {n*n} numbers with spaces:\").split()[:n*n]]\n",
    "matrix=[[num[i*n+j] for j in range(n)]for i in range(n)]\n",
    "print(\"Original matrix\")\n",
    "for k in matrix:\n",
    "    print(k)\n",
    "flat=[k for r in matrix for k in r ]\n",
    "print(\"flat Matrix:\")\n",
    "print(flat)\n",
    "    "
   ]
  },
  {
   "cell_type": "code",
   "execution_count": 47,
   "id": "1111de9e-3f1a-4521-9952-fe637fee8c32",
   "metadata": {},
   "outputs": [
    {
     "name": "stdin",
     "output_type": "stream",
     "text": [
      "Enter the size: 3\n",
      "Enter 9 numbers with spaces: 1 5 2 3 5 4 1 1 2\n"
     ]
    },
    {
     "name": "stdout",
     "output_type": "stream",
     "text": [
      "Original matrix\n",
      "[1, 5, 2]\n",
      "[3, 5, 4]\n",
      "[1, 1, 2]\n",
      "Square of the matrix\n",
      "[1, 25, 4]\n",
      "[9, 25, 16]\n",
      "[1, 1, 4]\n"
     ]
    }
   ],
   "source": [
    "'''CODE TO CONSIDER A LC:TO CALCULATE SQUARE OF 16 VALUES AS A N X N MATRIX AND PRINT THE LIST OF SQUARES IN EACH ROW\n",
    "size=3\n",
    "1 2 3      [1,4,9]\n",
    "4 5 6      [16,25,36]\n",
    "7 8 9      [49,64,81]   \n",
    "'''\n",
    "\n",
    "s=int(input(\"Enter the size:\"))\n",
    "num=[int(x)for x in input(f\"Enter {s*s} numbers with spaces:\").split()[:s*s]]\n",
    "matrix=[[num[i*n+j] for j in range(n)]for i in range(n)]\n",
    "matrix1=[[num[i*n+j]**2 for j in range(n)]for i in range(n)]\n",
    "print(\"Original matrix\")\n",
    "for k in matrix:\n",
    "    print(k)\n",
    "print(\"Square of the matrix\")\n",
    "for k in matrix1:\n",
    "    print(k)\n"
   ]
  },
  {
   "cell_type": "code",
   "execution_count": 48,
   "id": "32d0e0a1-0a1e-46fb-85e6-051c2f1fbf5a",
   "metadata": {},
   "outputs": [
    {
     "name": "stdin",
     "output_type": "stream",
     "text": [
      "Enter the size: 3\n",
      "Enter 9 numbers with spaces: 1 2 3 4 5 6 7 8 9\n"
     ]
    },
    {
     "name": "stdout",
     "output_type": "stream",
     "text": [
      "Original matrix\n",
      "[0, 2, 0]\n",
      "[4, 0, 6]\n",
      "[0, 8, 0]\n"
     ]
    }
   ],
   "source": [
    "#even\n",
    "s=int(input(\"Enter the size:\"))\n",
    "num=[int(x)for x in input(f\"Enter {s*s} numbers with spaces:\").split()[:s*s]]\n",
    "matrix=[[num[i*n+j] if num[i*n+j]%2==0 else 0 for j in range(n)]for i in range(n)]\n",
    "print(\"Original matrix\")\n",
    "for k in matrix:\n",
    "    print(k)"
   ]
  },
  {
   "cell_type": "code",
   "execution_count": 49,
   "id": "02a2aa47-0637-4aaa-8df9-0569c26360ab",
   "metadata": {},
   "outputs": [
    {
     "name": "stdin",
     "output_type": "stream",
     "text": [
      "Enter the size: 3\n",
      "Enter 9 numbers with spaces: 1 2 3 4 5 6 7 8 9\n"
     ]
    },
    {
     "name": "stdout",
     "output_type": "stream",
     "text": [
      "Original matrix\n",
      "[1, 0, 3]\n",
      "[0, 5, 0]\n",
      "[7, 0, 9]\n"
     ]
    }
   ],
   "source": [
    "#odd\n",
    "s=int(input(\"Enter the size:\"))\n",
    "num=[int(x)for x in input(f\"Enter {s*s} numbers with spaces:\").split()[:s*s]]\n",
    "matrix=[[num[i*n+j] if num[i*n+j]%2==1 else 0 for j in range(n)]for i in range(n)]\n",
    "print(\"Original matrix\")\n",
    "for k in matrix:\n",
    "    print(k)"
   ]
  },
  {
   "cell_type": "code",
   "execution_count": 51,
   "id": "b8f86e3a-2699-41d7-9e14-8185781a1c19",
   "metadata": {},
   "outputs": [
    {
     "name": "stdin",
     "output_type": "stream",
     "text": [
      "Enter the size: 3\n",
      "Enter 9 numbers with spaces: 1 2 3 4 5 6 7 8 9\n"
     ]
    },
    {
     "name": "stdout",
     "output_type": "stream",
     "text": [
      "[0, 1, 0]\n",
      "[1, 0, 1]\n",
      "[0, 1, 0]\n"
     ]
    }
   ],
   "source": [
    "#If num is even print 1 else 0\n",
    "s=int(input(\"Enter the size:\"))\n",
    "num=[int(x)for x in input(f\"Enter {s*s} numbers with spaces:\").split()[:s*s]]\n",
    "matrix=[[1 if num[i*n+j]%2==0 else 0 for j in range(n)]for i in range(n)]\n",
    "for k in matrix:\n",
    "    print(k)\n"
   ]
  },
  {
   "cell_type": "code",
   "execution_count": 8,
   "id": "f7706884-fa11-467d-a4db-59b3ad3c559f",
   "metadata": {},
   "outputs": [
    {
     "name": "stdin",
     "output_type": "stream",
     "text": [
      "Enter the no of rows: 5\n"
     ]
    },
    {
     "name": "stdout",
     "output_type": "stream",
     "text": [
      "*\n",
      "* *\n",
      "* * *\n",
      "* * * *\n",
      "* * * * *\n"
     ]
    }
   ],
   "source": [
    "#patterns using List Comprehension\n",
    "rows=int(input(\"Enter the no of rows:\"))\n",
    "pattern=[' '.join(['*' for j in range(i)])for i in range(1,rows+1)]\n",
    "for line in pattern:\n",
    "    print(line)"
   ]
  },
  {
   "cell_type": "code",
   "execution_count": 9,
   "id": "07348203-c860-4c6b-a61d-b311f60842a3",
   "metadata": {},
   "outputs": [
    {
     "name": "stdin",
     "output_type": "stream",
     "text": [
      "Enter the no of rows: 4\n"
     ]
    },
    {
     "name": "stdout",
     "output_type": "stream",
     "text": [
      "1\n",
      "1 2\n",
      "1 2 3\n",
      "1 2 3 4\n"
     ]
    }
   ],
   "source": [
    "#patterns using List Comprehension\n",
    "rows=int(input(\"Enter the no of rows:\"))\n",
    "pattern=[' '.join([str(j) for j in range(1,i+1)])for i in range(1,rows+1)]\n",
    "for line in pattern:\n",
    "    print(line)"
   ]
  },
  {
   "cell_type": "code",
   "execution_count": 12,
   "id": "9e088fd0-0db3-48c6-925a-3e21784af1b8",
   "metadata": {},
   "outputs": [
    {
     "name": "stdin",
     "output_type": "stream",
     "text": [
      "Enter the no of rows: 5\n"
     ]
    },
    {
     "name": "stdout",
     "output_type": "stream",
     "text": [
      "A\n",
      "A B\n",
      "A B C\n",
      "A B C D\n",
      "A B C D E\n"
     ]
    }
   ],
   "source": [
    "#patterns using List Comprehension(\"65-Upper case\")\n",
    "rows=int(input(\"Enter the no of rows:\"))\n",
    "pattern=[' '.join([chr(65+j) for j in range(i)])for i in range(1,rows+1)]\n",
    "for line in pattern:\n",
    "    print(line)"
   ]
  },
  {
   "cell_type": "code",
   "execution_count": 15,
   "id": "9988c31c-ff4c-4a2e-8de8-752f128e559f",
   "metadata": {},
   "outputs": [
    {
     "name": "stdin",
     "output_type": "stream",
     "text": [
      "Enter the no of rows: 5\n"
     ]
    },
    {
     "name": "stdout",
     "output_type": "stream",
     "text": [
      "a\n",
      "a b\n",
      "a b c\n",
      "a b c d\n",
      "a b c d e\n"
     ]
    }
   ],
   "source": [
    "#patterns using List Comprehension(\"97-Lower case\")\n",
    "rows=int(input(\"Enter the no of rows:\"))\n",
    "pattern=[' '.join([chr(97+j) for j in range(i)])for i in range(1,rows+1)]\n",
    "for line in pattern:\n",
    "    print(line)"
   ]
  },
  {
   "cell_type": "code",
   "execution_count": 26,
   "id": "1eb16b00-766a-488e-b068-312cdb4d88eb",
   "metadata": {},
   "outputs": [
    {
     "name": "stdin",
     "output_type": "stream",
     "text": [
      "Enter the no of rows: 5\n"
     ]
    },
    {
     "name": "stdout",
     "output_type": "stream",
     "text": [
      "    *\n",
      "   ***\n",
      "  *****\n",
      " *******\n",
      "*********\n"
     ]
    }
   ],
   "source": [
    "#patterns using List Comprehension\n",
    "rows=int(input(\"Enter the no of rows:\"))\n",
    "pattern=[' '*(rows-i)+'*'*(2*i-1) for i in range(1,rows+1)]\n",
    "for line in pattern:\n",
    "    print(line)"
   ]
  },
  {
   "cell_type": "code",
   "execution_count": 27,
   "id": "502d2375-7f20-4e73-b9ac-ff723a026ce4",
   "metadata": {},
   "outputs": [
    {
     "name": "stdin",
     "output_type": "stream",
     "text": [
      "Enter the no of rows: 5\n"
     ]
    },
    {
     "name": "stdout",
     "output_type": "stream",
     "text": [
      "1 2 3 4 5\n",
      "1 2 3 4\n",
      "1 2 3\n",
      "1 2\n",
      "1\n"
     ]
    }
   ],
   "source": [
    "#patterns using List Comprehension\n",
    "rows=int(input(\"Enter the no of rows:\"))\n",
    "pattern=[' '.join([str(num) for num in range(1,rows-i+1)])for i in range(rows)]\n",
    "for line in pattern:\n",
    "    print(line)"
   ]
  },
  {
   "cell_type": "code",
   "execution_count": 53,
   "id": "8a37e8f8-c975-407c-8c48-f4c567ffd1ae",
   "metadata": {},
   "outputs": [
    {
     "name": "stdin",
     "output_type": "stream",
     "text": [
      "Enter the no of rows: 5\n"
     ]
    },
    {
     "name": "stdout",
     "output_type": "stream",
     "text": [
      "* * * * *\n",
      "*       *\n",
      "*       *\n",
      "*       *\n",
      "* * * * *\n"
     ]
    }
   ],
   "source": [
    "#patterns using List Comprehension\n",
    "rows=int(input(\"Enter the no of rows:\"))\n",
    "pattern=[' '.join(['*' if (i==0 or i==rows-1) or (j==0) or (j==rows-1) else ' '  for j in range(rows)])for i in range(rows)]\n",
    "for line in pattern:\n",
    "    print(line)"
   ]
  },
  {
   "cell_type": "code",
   "execution_count": 54,
   "id": "5f061c9a-7525-4fab-8ddc-11c02c1c9bf5",
   "metadata": {},
   "outputs": [
    {
     "name": "stdin",
     "output_type": "stream",
     "text": [
      "Enter the no of rows: 5\n"
     ]
    },
    {
     "name": "stdout",
     "output_type": "stream",
     "text": [
      "* * * * *\n",
      "* *     *\n",
      "*   *   *\n",
      "*     * *\n",
      "* * * * *\n"
     ]
    }
   ],
   "source": [
    "rows=int(input(\"Enter the no of rows:\"))\n",
    "pattern=[' '.join(['*' if (i==0 or i==rows-1 or j==0 or j==rows-1 or i==j) else ' '  for j in range(rows)])for i in range(rows)]\n",
    "for line in pattern:\n",
    "    print(line)"
   ]
  },
  {
   "cell_type": "code",
   "execution_count": 61,
   "id": "a213a500-efc4-4f5f-9bbe-c8c57179ef9e",
   "metadata": {},
   "outputs": [
    {
     "name": "stdin",
     "output_type": "stream",
     "text": [
      "Enter the no of rows: 5\n"
     ]
    },
    {
     "name": "stdout",
     "output_type": "stream",
     "text": [
      "* * * * *\n",
      "* *   * *\n",
      "*   *   *\n",
      "* *   * *\n",
      "* * * * *\n"
     ]
    }
   ],
   "source": [
    "rows=int(input(\"Enter the no of rows:\"))\n",
    "pattern=[' '.join(['*' if (i==0 or i==rows-1 or j==0 or j==rows-1 or i==j or i+j==n-1) else ' '  for j in range(rows)])for i in range(rows)]\n",
    "for line in pattern:\n",
    "    print(line)"
   ]
  },
  {
   "cell_type": "code",
   "execution_count": 87,
   "id": "d0ca5f9a-22c0-4dc2-9045-6aa5933a34ec",
   "metadata": {},
   "outputs": [
    {
     "name": "stdin",
     "output_type": "stream",
     "text": [
      "Enter the no of rows: 5\n"
     ]
    },
    {
     "name": "stdout",
     "output_type": "stream",
     "text": [
      "     ❤️\n",
      "    ❤️ ❤️\n",
      "   ❤️   ❤️\n",
      "  ❤️     ❤️\n",
      " ❤️       ❤️\n",
      "  ❤️     ❤️  \n",
      "   ❤️   ❤️  \n",
      "    ❤️ ❤️  \n",
      "     ❤️  \n"
     ]
    }
   ],
   "source": [
    "#patterns using List Comprehension\n",
    "n=int(input(\"Enter the no of rows:\"))\n",
    "upper=[' '*(n-i)+''.join('❤️' if j==0 or j==2*i else ' ' for j in range(2*i+1)) for i in range(n)]\n",
    "lower=[' '*(i+2)+''.join ('❤️' if j==0 or j==2*(n-i-2) else ' 'for j in range(2*(n-i)-1)) for i in range(n-1)]\n",
    "for line in upper+lower:\n",
    "    print(line)\n",
    "    "
   ]
  },
  {
   "cell_type": "code",
   "execution_count": 90,
   "id": "418cf379-6171-4cb9-99a9-40a39cf24a66",
   "metadata": {},
   "outputs": [
    {
     "name": "stdout",
     "output_type": "stream",
     "text": [
      "4.0\n",
      "3.141592653589793\n"
     ]
    }
   ],
   "source": [
    "#Libraries\n",
    "import math as m\n",
    "print(m.sqrt(16))\n",
    "print(m.pi)"
   ]
  },
  {
   "cell_type": "code",
   "execution_count": 92,
   "id": "6c387c98-77f3-4371-954c-3002cf726e5b",
   "metadata": {},
   "outputs": [
    {
     "name": "stdin",
     "output_type": "stream",
     "text": [
      "enter 1st number: 5\n",
      "enter 2nd number: 2\n"
     ]
    },
    {
     "name": "stdout",
     "output_type": "stream",
     "text": [
      "Addition x+y=7\n",
      "subtraction x-y=3\n",
      "product x*y=10\n",
      "Division x/y=2.5\n",
      "floatdivision x//y=2\n",
      "exponents x**y=25\n"
     ]
    }
   ],
   "source": [
    "import Ayesha as a\n",
    "x=int(input(\"enter 1st number:\"))\n",
    "y=int(input(\"enter 2nd number:\"))\n",
    "print(f\"Addition x+y={a.add(x,y)}\")\n",
    "print(f\"subtraction x-y={a.sub(x,y)}\")\n",
    "print(f\"product x*y={a.mul(x,y)}\")\n",
    "print(f\"Division x/y={a.div(x,y)}\")\n",
    "print(f\"floatdivision x//y={a.floatdiv(x,y)}\")\n",
    "print(f\"exponents x**y={a.exp(x,y)}\")\n"
   ]
  },
  {
   "cell_type": "code",
   "execution_count": 5,
   "id": "a2bd0782-82a7-42d3-b482-019a1d2a4926",
   "metadata": {},
   "outputs": [
    {
     "name": "stdout",
     "output_type": "stream",
     "text": [
      "9\n"
     ]
    }
   ],
   "source": [
    "class abc:\n",
    "    value=9\n",
    "obj1=abc()\n",
    "print(obj1.value)\n",
    "#obj1.display()"
   ]
  },
  {
   "cell_type": "code",
   "execution_count": 10,
   "id": "84603c84-5d09-4c81-8ead-715546a211b9",
   "metadata": {},
   "outputs": [
    {
     "name": "stdin",
     "output_type": "stream",
     "text": [
      "enter a value: 5\n"
     ]
    },
    {
     "name": "stdout",
     "output_type": "stream",
     "text": [
      "this is a class method\n",
      "accessed value in class is 5\n"
     ]
    }
   ],
   "source": [
    "class abc:\n",
    "    def __init__(self,value):\n",
    "      print(\"this is a class method\")\n",
    "      self.value=value\n",
    "      print(\"accessed value in class is\",value)\n",
    "num=int(input(\"enter a value:\"))\n",
    "obj=abc(num)"
   ]
  },
  {
   "cell_type": "code",
   "execution_count": 15,
   "id": "fcf37593-28fc-46a3-9005-83617db826d4",
   "metadata": {},
   "outputs": [
    {
     "name": "stdout",
     "output_type": "stream",
     "text": [
      "hello,i am bhavana and i am 20 years-old\n"
     ]
    }
   ],
   "source": [
    "class student:\n",
    "    def __init__(self,name,age):\n",
    "        self.name=name\n",
    "        self.age=age\n",
    "    def hi(self):\n",
    "        print(f\"hello,i am {self.name} and i am {self.age} years-old\")\n",
    "s=student('bhavana',20)\n",
    "s.hi()"
   ]
  },
  {
   "cell_type": "code",
   "execution_count": 21,
   "id": "2e9257cf-e282-4d95-b88f-36baa7e6c56a",
   "metadata": {},
   "outputs": [
    {
     "name": "stdin",
     "output_type": "stream",
     "text": [
      "enter the radius: 4\n"
     ]
    },
    {
     "name": "stdout",
     "output_type": "stream",
     "text": [
      "area of the circle: 50.26548245743669\n",
      "circumference of circle: 25.132741228718345\n"
     ]
    }
   ],
   "source": [
    "import math\n",
    "class circle:\n",
    "    def __init__(self,radius):\n",
    "        self.radius=radius \n",
    "    def area(self):\n",
    "        return math.pi * self.radius**2\n",
    "    def cir(self):\n",
    "        return 2*math.pi*self.radius\n",
    "r=int(input(\"enter the radius:\")) \n",
    "c=circle(r) \n",
    "print(\"area of the circle:\",c.area())\n",
    "print(\"circumference of circle:\",c.cir())"
   ]
  },
  {
   "cell_type": "code",
   "execution_count": 25,
   "id": "8a02fdd4-2465-4ac2-a9cf-aebfc6a60ffc",
   "metadata": {},
   "outputs": [
    {
     "name": "stdin",
     "output_type": "stream",
     "text": [
      "enter the number: 78\n"
     ]
    },
    {
     "name": "stdout",
     "output_type": "stream",
     "text": [
      "factorial: 1\n"
     ]
    }
   ],
   "source": [
    "'''code to find and print the facorial of a give numbers using a class \n",
    "called math and register the given number in aconstruct to calucate .return the value by passing to main function'''\n",
    "class Math:\n",
    "    def __init__(self,num):\n",
    "        self.num=num\n",
    "    def fact(self):\n",
    "        f=1\n",
    "        for i in range(1,self.num+1):\n",
    "            f*=i\n",
    "            return f\n",
    "number=int(input(\"enter the number:\"))\n",
    "m=Math(number)\n",
    "print(\"factorial:\",m.fact())"
   ]
  },
  {
   "cell_type": "code",
   "execution_count": 32,
   "id": "4b8f331a-ecf0-4796-878e-d1e7d65bb4dd",
   "metadata": {},
   "outputs": [
    {
     "name": "stdin",
     "output_type": "stream",
     "text": [
      "enter the number 5\n"
     ]
    },
    {
     "name": "stdout",
     "output_type": "stream",
     "text": [
      "squareroot:2.24\n",
      "squareroot:2.2361\n"
     ]
    }
   ],
   "source": [
    "'''code to import the sqrt function and caluclate the value by creating a \n",
    "class square root and define a function thr root return the value to the main program'''\n",
    "import math\n",
    "class squreroot:\n",
    "    def __init__(self,num):\n",
    "        self.num=num\n",
    "    def squre(self):\n",
    "        return math.sqrt(self.num)\n",
    "number=float(input(\"enter the number\"))\n",
    "m=squre(number)\n",
    "print(f\"squareroot:{m.squre():.2f}\")\n",
    "print(f\"squareroot:{m.squre():.4f}\")\n",
    "#2f is used for 2 points after the float value\n"
   ]
  },
  {
   "cell_type": "code",
   "execution_count": 38,
   "id": "397a0eb4-abb4-462c-b0f5-f9e59aae4cda",
   "metadata": {},
   "outputs": [
    {
     "name": "stdout",
     "output_type": "stream",
     "text": [
      "even list: [44, 42, 48]\n",
      "odd list: [45, 49, 41, 43]\n"
     ]
    }
   ],
   "source": [
    "'''write a code to modify a mutable list using a class number for acccumluation  even/odd values into \n",
    "alist return the even number and odd  list with last modified element'''\n",
    "class number:\n",
    "    even=[]\n",
    "    odd=[]\n",
    "    def __init__(self,n):\n",
    "     self.n=n\n",
    "     if n%2==0:\n",
    "        number.even.append(n)\n",
    "     else:\n",
    "        number.odd.append(n)\n",
    "n1=number(45)\n",
    "n2=number(44)\n",
    "n3=number(49)\n",
    "n4=number(42)\n",
    "n5=number(41)\n",
    "n6=number(43)\n",
    "n7=number(48)\n",
    "print(\"even list:\",number.even)\n",
    "print(\"odd list:\",number.odd)"
   ]
  },
  {
   "cell_type": "code",
   "execution_count": 10,
   "id": "fc22deab-7a8a-4396-bfaf-8b2b7dc996f9",
   "metadata": {},
   "outputs": [
    {
     "name": "stdout",
     "output_type": "stream",
     "text": [
      "Class variable is: 0\n",
      "object variable: 11\n",
      "Class Variable: 10\n",
      "Obj var with 11 is deleted\n",
      "object variable: 12\n",
      "Class Variable: 10\n",
      "Obj var with 12 is deleted\n",
      "object variable: 13\n",
      "Class Variable: 10\n",
      "Obj var with 13 is deleted\n",
      "Obj var with 11 is deleted\n",
      "Obj var with 12 is deleted\n",
      "Obj var with 13 is deleted\n"
     ]
    }
   ],
   "source": [
    "'''del method / class variable with const access'''\n",
    "class bhavs():\n",
    "    class_var=0\n",
    "    print(\"Class variable is:\",class_var)\n",
    "    def __init__(self,var):\n",
    "        bhavs.class_var+=10\n",
    "        self.var=var\n",
    "        print(\"object variable:\",var)\n",
    "        print(\"Class Variable:\",bhavs.class_var)\n",
    "    def __del__(self):\n",
    "        bhavs.class_var-=10\n",
    "        print(\"Obj var with %d is deleted\"%self.var)\n",
    "obj1=bhavs(11)\n",
    "obj2=bhavs(12)\n",
    "obj3=bhavs(13)\n",
    "del obj1\n",
    "del obj2\n",
    "del obj3"
   ]
  },
  {
   "cell_type": "code",
   "execution_count": 18,
   "id": "b2c45a41-e8a5-42ac-adc5-cf893cbd2728",
   "metadata": {},
   "outputs": [
    {
     "name": "stdin",
     "output_type": "stream",
     "text": [
      "Enter the value of a : 556\n",
      "Enter the value of b : 5\n"
     ]
    },
    {
     "name": "stdout",
     "output_type": "stream",
     "text": [
      "Calc class is created.....\n",
      "Addition: 561\n",
      "Subtraction: 551\n",
      "Created Calc class is deleted.....\n"
     ]
    }
   ],
   "source": [
    "class calc:\n",
    "    def __init__(self,a,b):\n",
    "        self.a=a\n",
    "        self.b=b\n",
    "        print(\"Calc class is created.....\")\n",
    "\n",
    "    def add(self):\n",
    "        return self.a+self.b\n",
    "    def sub(self):\n",
    "        return self.a-self.b\n",
    "    def __del__(self):\n",
    "        print(\"Created Calc class is deleted.....\")\n",
    "a=int(input(\"Enter the value of a :\"))\n",
    "b=int(input(\"Enter the value of b :\"))\n",
    "obj1=calc(a,b)\n",
    "print(\"Addition:\",obj1.add())\n",
    "print(\"Subtraction:\",obj1.sub())\n",
    "del obj1\n"
   ]
  },
  {
   "cell_type": "code",
   "execution_count": 21,
   "id": "058b351c-236b-46f4-a9fb-ff5e060c7a76",
   "metadata": {},
   "outputs": [
    {
     "name": "stdin",
     "output_type": "stream",
     "text": [
      "Enter the radius: 3\n"
     ]
    },
    {
     "name": "stdout",
     "output_type": "stream",
     "text": [
      "Rectangular Class is created....\n",
      "Area: 28.274333882308138\n",
      "Circumference: 18.84955592153876\n",
      "Class is deleted....\n"
     ]
    }
   ],
   "source": [
    "'''Code to calculate area and circumference of a circle by using a class rectangle,create a constructor and separate functions for area and circumference and delete the constructor and import math pi value'''\n",
    "import math\n",
    "class rectangle:\n",
    "    def __init__(self,r):\n",
    "        self.r=r\n",
    "        print(\"Rectangular Class is created....\")\n",
    "    def area(self):\n",
    "        return math.pi*(r**2)\n",
    "    def circum(self):\n",
    "        return 2*math.pi*r\n",
    "    def __del__(self):\n",
    "        print(\"Class is deleted....\")\n",
    "r=int(input(\"Enter the radius:\"))\n",
    "b=rectangle(r)\n",
    "print(\"Area:\",b.area())\n",
    "print(\"Circumference:\",b.circum())\n",
    "del b\n"
   ]
  },
  {
   "cell_type": "code",
   "execution_count": null,
   "id": "9ef725c0-2ff7-4083-b0b6-37f49706e48a",
   "metadata": {},
   "outputs": [],
   "source": [
    "'''\n",
    "Special Methods:\n",
    "__cmp__()   == Object Comparison\n",
    "__len__()   == len(objects)\n",
    "__repr__()  == str representation\n",
    "__call__()  == n args\n",
    "COMPARATIVE-\n",
    "__lt__(),__le__(),\n",
    "__eq__(),__ne__(),\n",
    "__gt__(),__ge__(),\n",
    "__hash__()  == Used for an object/ it will decide the place of any object data structure\n",
    "__iter__() ==iteration over objects\n",
    "__getitem__() == Indexing key ==>__getitem__(self,key)\n",
    "__setitem__() == Indexing key ==>__setitem__(self,key,value)\n",
    "'''\n"
   ]
  },
  {
   "cell_type": "code",
   "execution_count": 24,
   "id": "ce07a841-400b-4db2-a926-25d50ab3b871",
   "metadata": {},
   "outputs": [
    {
     "name": "stdout",
     "output_type": "stream",
     "text": [
      "6\n",
      "[1, 2, 3, 4, 100, 6, 7, 8, 9, 0]\n"
     ]
    }
   ],
   "source": [
    "class numbers:\n",
    "    def __init__(self,myList):\n",
    "        self.myList=myList\n",
    "    def __getitem__(self,index):\n",
    "        return self.myList[index]\n",
    "    def __setitem__(self,index,value):\n",
    "        self.myList[index]=value\n",
    "\n",
    "numList=numbers([1,2,3,4,5,6,7,8,9,0])\n",
    "print(numList[5])\n",
    "numList[4]=100\n",
    "print(numList.myList)"
   ]
  },
  {
   "cell_type": "code",
   "execution_count": 27,
   "id": "a8dbb12c-b582-4116-b81f-d2855356d37a",
   "metadata": {},
   "outputs": [
    {
     "name": "stdout",
     "output_type": "stream",
     "text": [
      "Sum of Row 0: 3\n",
      "Sum of Row 1: 7\n",
      "new sum of Row1 sum is : 30\n"
     ]
    }
   ],
   "source": [
    "#math evaluatioj on getitem setitem\n",
    "'''Code to add the sum of rows in a 2D list'''\n",
    "class RowSum:\n",
    "    def __init__(self,matrix):\n",
    "        self.matrix=matrix\n",
    "    def __getitem__(self,row):\n",
    "        return sum(self.matrix[row])\n",
    "    def __setitem__(self,row,new_row):\n",
    "        self.matrix[row]=new_row\n",
    "m=RowSum([[1,2],[3,4],[5,6]])\n",
    "#Sum of 0 index row value =3\n",
    "#Sum of 1 index row value =7\n",
    "print(\"Sum of Row 0:\",m[0])\n",
    "print(\"Sum of Row 1:\",m[1])\n",
    "m[1]=[10,20]\n",
    "#sum of 1 index row values,which is new=30 \n",
    "print(\"new sum of Row1 sum is :\",m[1])"
   ]
  },
  {
   "cell_type": "code",
   "execution_count": null,
   "id": "d5ad4da9-d7a9-4fc5-862c-d4ec96d1587c",
   "metadata": {},
   "outputs": [],
   "source": [
    "'''code to create a class of vowels_mask where vowels in the  text must be masked wir=th consonants,create a getitem and setitem for accelesingthe vowels in the text\n",
    "input=education\n",
    "output=d*c*t*n\n",
    "'''\n",
    "class vowelmask:\n",
    "    def __init__(self,text):\n",
    "        self.text=text\n",
    "    def __getitem__(self,index):\n",
    "        return self.text[index])\n",
    "    def __setitem__(self,index,val):\n",
    "        self.text[index]\n",
    "    def mask_vowels(self):\n",
    "        for i,ch in enumerator(self.text):\n",
    "            if ch.lower in 'aeiou':\n",
    "                self[i]='*'\n",
    "    def getstr\n",
    "\n",
    "\n"
   ]
  }
 ],
 "metadata": {
  "kernelspec": {
   "display_name": "Python [conda env:base] *",
   "language": "python",
   "name": "conda-base-py"
  },
  "language_info": {
   "codemirror_mode": {
    "name": "ipython",
    "version": 3
   },
   "file_extension": ".py",
   "mimetype": "text/x-python",
   "name": "python",
   "nbconvert_exporter": "python",
   "pygments_lexer": "ipython3",
   "version": "3.12.7"
  }
 },
 "nbformat": 4,
 "nbformat_minor": 5
}
