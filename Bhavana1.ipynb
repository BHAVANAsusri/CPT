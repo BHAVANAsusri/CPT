{
 "cells": [
  {
   "cell_type": "code",
   "execution_count": 2,
   "id": "d36bd976-f137-4927-b76d-862c8a205b60",
   "metadata": {},
   "outputs": [
    {
     "name": "stdout",
     "output_type": "stream",
     "text": [
      "Raising Exception\n",
      "Exception caught....\n",
      "Performing clean up with finally...\n"
     ]
    }
   ],
   "source": [
    "#try finally block\n",
    "try:\n",
    "    print(\"Raising Exception\")\n",
    "    raise ValueError\n",
    "except:\n",
    "    print(\"Exception caught....\")\n",
    "finally:\n",
    "    print(\"Performing clean up with finally...\")"
   ]
  },
  {
   "cell_type": "code",
   "execution_count": 1,
   "id": "272f8df8-6f28-48b0-930b-29211e2354de",
   "metadata": {},
   "outputs": [
    {
     "name": "stdin",
     "output_type": "stream",
     "text": [
      "Enter the no of rows: 5\n"
     ]
    },
    {
     "name": "stdout",
     "output_type": "stream",
     "text": [
      "    *\n",
      "    ***\n",
      "    *****\n",
      "    *******\n",
      "    *********\n"
     ]
    }
   ],
   "source": [
    "#patterns using List Comprehension(\"Upper case\n",
    "rows=int(input(\"Enter the no of rows:\"))\n",
    "pattern=[' '*(rows-1)+'*'*(2*i-1) for i in range(1,rows+1)]\n",
    "for line in pattern:\n",
    "    print(line)"
   ]
  },
  {
   "cell_type": "code",
   "execution_count": null,
   "id": "d23f2658-ec78-47b2-aca1-40a0a90424b9",
   "metadata": {},
   "outputs": [],
   "source": []
  },
  {
   "cell_type": "code",
   "execution_count": 8,
   "id": "7c7e908f-0ec3-4cd3-938e-2d8b23c26d9f",
   "metadata": {},
   "outputs": [
    {
     "name": "stdout",
     "output_type": "stream",
     "text": [
      "Dividing 2 strings\n",
      "This is the finally block ....which executes every time\n",
      "here the type error is handled,whiuch is raised in the inner\n"
     ]
    }
   ],
   "source": [
    "'''program having finally blockmto re raise an exception that will be handled by an outer try except block'''\n",
    "try:\n",
    "    print(\"Dividing 2 strings\")\n",
    "    try:\n",
    "        quo=\"aaa\"/\"bbb\"\n",
    "        print(quo)\n",
    "    finally:\n",
    "        print(\"This is the finally block ....which executes every time\")\n",
    "except TypeError:\n",
    "    print(\"here the type error is handled,whiuch is raised in the inner\")"
   ]
  },
  {
   "cell_type": "code",
   "execution_count": 17,
   "id": "9a97fb8f-5372-4c81-b81b-c718bfe03201",
   "metadata": {},
   "outputs": [
    {
     "name": "stdin",
     "output_type": "stream",
     "text": [
      "Enter the temp in c: 31\n"
     ]
    },
    {
     "ename": "AssertionError",
     "evalue": "Its freezing...",
     "output_type": "error",
     "traceback": [
      "\u001b[1;31m---------------------------------------------------------------------------\u001b[0m",
      "\u001b[1;31mAssertionError\u001b[0m                            Traceback (most recent call last)",
      "Cell \u001b[1;32mIn[17], line 4\u001b[0m\n\u001b[0;32m      2\u001b[0m c\u001b[38;5;241m=\u001b[39m\u001b[38;5;28mint\u001b[39m(\u001b[38;5;28minput\u001b[39m(\u001b[38;5;124m\"\u001b[39m\u001b[38;5;124mEnter the temp in c:\u001b[39m\u001b[38;5;124m\"\u001b[39m))\n\u001b[0;32m      3\u001b[0m f\u001b[38;5;241m=\u001b[39m(c\u001b[38;5;241m*\u001b[39m\u001b[38;5;241m9\u001b[39m\u001b[38;5;241m/\u001b[39m\u001b[38;5;241m5\u001b[39m)\u001b[38;5;241m+\u001b[39m\u001b[38;5;241m32\u001b[39m\n\u001b[1;32m----> 4\u001b[0m \u001b[38;5;28;01massert\u001b[39;00m (f\u001b[38;5;241m<\u001b[39m\u001b[38;5;241m=\u001b[39m\u001b[38;5;241m32\u001b[39m),\u001b[38;5;124m\"\u001b[39m\u001b[38;5;124mIts freezing...\u001b[39m\u001b[38;5;124m\"\u001b[39m\n\u001b[0;32m      5\u001b[0m \u001b[38;5;28mprint\u001b[39m(\u001b[38;5;124m\"\u001b[39m\u001b[38;5;124mTemperature in fahrenheit= \u001b[39m\u001b[38;5;124m\"\u001b[39m,f)\n",
      "\u001b[1;31mAssertionError\u001b[0m: Its freezing..."
     ]
    }
   ],
   "source": [
    "#Assert statements\n",
    "c=int(input(\"Enter the temp in c:\"))\n",
    "f=(c*9/5)+32\n",
    "assert (f<=32),\"Its freezing...\"\n",
    "print(\"Temperature in fahrenheit= \",f)\n"
   ]
  },
  {
   "cell_type": "code",
   "execution_count": null,
   "id": "304159c1-b018-4416-8851-dfc2a57f8364",
   "metadata": {},
   "outputs": [],
   "source": [
    "#write a program that promptsbthe usern to enter a number and print its square from exceptional handling for keyboard input\n",
    "num=int("
   ]
  },
  {
   "cell_type": "code",
   "execution_count": 1,
   "id": "039fd5d3-867d-4b8a-a69f-add89786cc38",
   "metadata": {},
   "outputs": [
    {
     "name": "stdout",
     "output_type": "stream",
     "text": [
      "1 2 3 4 5 6 7 8 9 10 11 12 13 14 15 16 17 18 19 20 21 22 23 24 25 26 27 28 29 30 "
     ]
    }
   ],
   "source": [
    "#program which infinitly print the natural numbers and raises the exception after printing first 30  numbers and exit the program\n",
    "n=0\n",
    "while True:\n",
    "    try:\n",
    "        n=n+1\n",
    "        if n==31:\n",
    "            raise StopIteration\n",
    "    except StopIteration:\n",
    "        break\n",
    "    else:\n",
    "        print(n,end=\" \")\n",
    "    "
   ]
  },
  {
   "cell_type": "code",
   "execution_count": 9,
   "id": "82ae4c6f-38f4-4f8f-a527-cf829af446a3",
   "metadata": {},
   "outputs": [
    {
     "name": "stdin",
     "output_type": "stream",
     "text": [
      "enter the size: 3\n",
      "Enter element 1: 12\n",
      "Enter element 2: 23\n",
      "Enter element 3: 54\n",
      "enter the index to access: 4\n"
     ]
    },
    {
     "name": "stdout",
     "output_type": "stream",
     "text": [
      "Error : index is out of range\n"
     ]
    }
   ],
   "source": [
    "try:\n",
    "    size=int(input(\"enter the size:\"))\n",
    "    user_list=[]\n",
    "    for i in range(size):\n",
    "        val=int(input(f\"Enter element {i+1}:\"))\n",
    "        user_list.append(val)\n",
    "    index=int(input(\"enter the index to access:\"))\n",
    "    print(f\"element at index {index} is {user_list[index]}\")\n",
    "except ValueError:\n",
    "    print(\"Error : Please enter only integers\")\n",
    "except IndexError:\n",
    "    print(\"Error : index is out of range\")"
   ]
  },
  {
   "cell_type": "code",
   "execution_count": 1,
   "id": "a892566c-9b42-4694-a775-3f38668a0d48",
   "metadata": {},
   "outputs": [
    {
     "name": "stdout",
     "output_type": "stream",
     "text": [
      "['APPLE', 'BANANA', 'ORANGE']\n"
     ]
    }
   ],
   "source": [
    "###List comprehension\n",
    "\"\"\"print([x**2 for x in range(1,11)])\n",
    "print([x for x in range(1,11) if x%2==0])\"\"\"\n",
    "words=['Apple','Banana','orange']\n",
    "print([word.upper() for word in words])\n"
   ]
  },
  {
   "cell_type": "markdown",
   "id": "4fd0a7f4-49e5-41a9-9df7-393d5acbcc3f",
   "metadata": {
    "jp-MarkdownHeadingCollapsed": true
   },
   "source": [
    "\"\"\"LIST COMPREHENSIONS........INPUT VERSION.....\"\"\"\n",
    "#Step by step input\n",
    "nums=[int(input(f\"Enter the numbers {i+1} :\")) for i in range(10)]\n",
    "print(nums)\n",
    "\n"
   ]
  },
  {
   "cell_type": "markdown",
   "id": "008bcf49-eadd-4337-8628-d11d915972a3",
   "metadata": {
    "jp-MarkdownHeadingCollapsed": true
   },
   "source": [
    "###"
   ]
  },
  {
   "cell_type": "markdown",
   "id": "f8a2dd4e-2b92-4f8e-b3ab-cfb6358f61e8",
   "metadata": {
    "jp-MarkdownHeadingCollapsed": true
   },
   "source": [
    "###"
   ]
  },
  {
   "cell_type": "markdown",
   "id": "5d6cf45e-a869-4d52-b1be-bd778709ddb4",
   "metadata": {
    "jp-MarkdownHeadingCollapsed": true
   },
   "source": [
    "###"
   ]
  },
  {
   "cell_type": "markdown",
   "id": "1ae641a3-cdee-4631-b2e2-512d9c554d3e",
   "metadata": {
    "jp-MarkdownHeadingCollapsed": true
   },
   "source": [
    "###"
   ]
  },
  {
   "cell_type": "markdown",
   "id": "ec7149cc-c813-40b1-b6c9-3bce16723587",
   "metadata": {
    "jp-MarkdownHeadingCollapsed": true
   },
   "source": [
    "###"
   ]
  }
 ],
 "metadata": {
  "kernelspec": {
   "display_name": "Python [conda env:base] *",
   "language": "python",
   "name": "conda-base-py"
  },
  "language_info": {
   "codemirror_mode": {
    "name": "ipython",
    "version": 3
   },
   "file_extension": ".py",
   "mimetype": "text/x-python",
   "name": "python",
   "nbconvert_exporter": "python",
   "pygments_lexer": "ipython3",
   "version": "3.12.7"
  }
 },
 "nbformat": 4,
 "nbformat_minor": 5
}
